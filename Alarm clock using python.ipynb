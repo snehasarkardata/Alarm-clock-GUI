{
 "cells": [
  {
   "cell_type": "code",
   "execution_count": 73,
   "id": "a7ea0f4b",
   "metadata": {},
   "outputs": [],
   "source": [
    "from tkinter import *\n",
    "import datetime\n",
    "import time\n",
    "import winsound"
   ]
  },
  {
   "cell_type": "code",
   "execution_count": 74,
   "id": "303707af",
   "metadata": {},
   "outputs": [],
   "source": [
    "def alarm(set_timer):\n",
    "    while True:\n",
    "        time.sleep(1)\n",
    "        current_time= datetime.datetime.now()\n",
    "        now=current_time.strftime(\"%H : %M : %S\")\n",
    "        date=current_time.strftime(\"%d . %m . %Y\")\n",
    "        print(\"The set date  is =\",date)\n",
    "        print(now)\n",
    "        if now== set_timer:\n",
    "            print(\"WAKE UP !!\")\n",
    "        #winsound.Playsound(\"sound.wav\",winsound.SND_ASYNC)\n",
    "        winsound.Playsound(\"SystemExit\", winsound.SND_ALIAS)\n",
    "        break\n",
    "        \n",
    "        \n",
    "#Real time being called \n",
    "def actual_time():\n",
    " set_timer=f\"{hour.get()}:{min.get()}:{sec.get()}\" \n",
    " alarm(set_timer)"
   ]
  },
  {
   "cell_type": "code",
   "execution_count": 75,
   "id": "4f279187",
   "metadata": {},
   "outputs": [],
   "source": [
    "#Making of the clock\n",
    "clock=Tk()\n",
    "clock.title(\"Titan Alarm Clock\")\n",
    "clock.geometry(\"600x300\")\n",
    "time_format=Label(clock,text='Enter time in 24 hour format!',fg=\"red\",bg=\"yellow\",font=\"Arial\").place(x=200,y=120)\n",
    "addTime=Label(clock,text=\"Hour\",font=60).place(x=150)\n",
    "AddTime=Label(clock,text=\"Min\",font=60).place(x=260)\n",
    "ADdTime=Label(clock,text=\"Sec\",font=60).place(x=360)\n",
    "\n",
    "\n",
    "setalarm=Label(clock,text=\"When to wake you up\",fg=\"blue\",relief=\"solid\",font=(\"Helevetica\",7,\"bold\")).place(x=10,y=29)\n"
   ]
  },
  {
   "cell_type": "code",
   "execution_count": 76,
   "id": "3608f095",
   "metadata": {},
   "outputs": [
    {
     "name": "stdout",
     "output_type": "stream",
     "text": [
      "The set date  is = 05 . 07 . 2022\n",
      "14 : 50 : 31\n"
     ]
    },
    {
     "name": "stderr",
     "output_type": "stream",
     "text": [
      "Exception in Tkinter callback\n",
      "Traceback (most recent call last):\n",
      "  File \"C:\\Users\\Sneha\\anaconda3\\lib\\tkinter\\__init__.py\", line 1892, in __call__\n",
      "    return self.func(*args)\n",
      "  File \"C:\\Users\\Sneha\\AppData\\Local\\Temp\\ipykernel_12960\\347215516.py\", line 19, in actual_time\n",
      "    alarm(set_timer)\n",
      "  File \"C:\\Users\\Sneha\\AppData\\Local\\Temp\\ipykernel_12960\\347215516.py\", line 12, in alarm\n",
      "    winsound.Playsound(\"SystemExit\", winsound.SND_ALIAS)\n",
      "AttributeError: module 'winsound' has no attribute 'Playsound'\n"
     ]
    }
   ],
   "source": [
    "#VARIABLES FOR ALARM INITIALIZATION\n",
    "hour= StringVar()\n",
    "min= StringVar()\n",
    "sec= StringVar()\n",
    "\n",
    "#TIME REQUIRED TO SET THE ALARM\n",
    "hour_time= Entry(clock,textvariable=hour,bg='pink',width=15).place(x=150,y=30)\n",
    "min_time= Entry(clock,textvariable=min,bg='pink',width=15).place(x=250,y=30)\n",
    "sec_time= Entry(clock,textvariable=sec,bg='pink',width=15).place(x=350,y=30)\n",
    "\n",
    "\n",
    "#Time input\n",
    "Submit= Button(clock,text=\"Set Alarm\",fg=\"red\",width=10,command= actual_time).place(x=250,y=70)\n",
    "clock.mainloop()\n",
    "#execute"
   ]
  },
  {
   "cell_type": "code",
   "execution_count": null,
   "id": "d1038770",
   "metadata": {},
   "outputs": [],
   "source": []
  },
  {
   "cell_type": "code",
   "execution_count": null,
   "id": "af718bb5",
   "metadata": {},
   "outputs": [],
   "source": []
  },
  {
   "cell_type": "code",
   "execution_count": null,
   "id": "cd2d76d2",
   "metadata": {},
   "outputs": [],
   "source": []
  },
  {
   "cell_type": "code",
   "execution_count": null,
   "id": "598d957a",
   "metadata": {},
   "outputs": [],
   "source": []
  },
  {
   "cell_type": "code",
   "execution_count": null,
   "id": "975a8aca",
   "metadata": {},
   "outputs": [],
   "source": []
  },
  {
   "cell_type": "code",
   "execution_count": null,
   "id": "6b4d3f21",
   "metadata": {},
   "outputs": [],
   "source": []
  }
 ],
 "metadata": {
  "kernelspec": {
   "display_name": "Python 3 (ipykernel)",
   "language": "python",
   "name": "python3"
  },
  "language_info": {
   "codemirror_mode": {
    "name": "ipython",
    "version": 3
   },
   "file_extension": ".py",
   "mimetype": "text/x-python",
   "name": "python",
   "nbconvert_exporter": "python",
   "pygments_lexer": "ipython3",
   "version": "3.9.12"
  }
 },
 "nbformat": 4,
 "nbformat_minor": 5
}
